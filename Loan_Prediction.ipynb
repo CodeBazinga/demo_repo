{
 "cells": [
  {
   "cell_type": "code",
   "execution_count": null,
   "id": "dafa25d0",
   "metadata": {},
   "outputs": [],
   "source": []
  },
  {
   "cell_type": "code",
   "execution_count": null,
   "id": "6fdff264",
   "metadata": {},
   "outputs": [],
   "source": [
    "### Feature Description\n",
    "\n",
    "Loan_ID \tLoan reference number\n",
    "\n",
    "Gender \tApplicant gender - (Male or Female)\n",
    "\n",
    "Married \tApplicant marital status (Married or not married) \n",
    "\n",
    "Dependents \tNumber of family members \t0; 1; 2; 3+\n",
    "\n",
    "Education \tApplicant education/qualification \n",
    "(graduate or not graduate) \tGraduate; Under Graduate\n",
    "\n",
    "Self_Employed \tApplicant employment status\n",
    "(yes for self-employed, no for employed/others) \tYes; No\n",
    "\n",
    "ApplicantIncome \tApplicant's monthly salary/income\n",
    "\n",
    "CoapplicantIncome \tAdditional applicant's monthly salary/income \n",
    "\n",
    "LoanAmount \tLoan amount \t128; 66; ...\n",
    "\n",
    "Loan_Amount_Term \tThe loan's repayment period (in days) \n",
    "\n",
    "Credit_History \tRecords of previous credit history\n",
    "(0: bad credit history, 1: good credit history) \t0; 1\n",
    "\n",
    "Property_Area \tThe location of property\n",
    "(Rural/Semiurban/Urban) \tRural; Semiurban; Urban\n",
    "\n",
    "Loan_Status \tStatus of loan\n",
    "(Y: accepted, N: not accepted)"
   ]
  },
  {
   "cell_type": "code",
   "execution_count": 276,
   "id": "31adc710",
   "metadata": {},
   "outputs": [],
   "source": [
    "import pandas as pd\n",
    "import numpy as np\n",
    "import matplotlib.pyplot as plt\n",
    "import seaborn as sns"
   ]
  },
  {
   "cell_type": "code",
   "execution_count": 326,
   "id": "c1195c20",
   "metadata": {},
   "outputs": [
    {
     "data": {
      "text/html": [
       "<div>\n",
       "<style scoped>\n",
       "    .dataframe tbody tr th:only-of-type {\n",
       "        vertical-align: middle;\n",
       "    }\n",
       "\n",
       "    .dataframe tbody tr th {\n",
       "        vertical-align: top;\n",
       "    }\n",
       "\n",
       "    .dataframe thead th {\n",
       "        text-align: right;\n",
       "    }\n",
       "</style>\n",
       "<table border=\"1\" class=\"dataframe\">\n",
       "  <thead>\n",
       "    <tr style=\"text-align: right;\">\n",
       "      <th></th>\n",
       "      <th>Loan_ID</th>\n",
       "      <th>Gender</th>\n",
       "      <th>Married</th>\n",
       "      <th>Dependents</th>\n",
       "      <th>Education</th>\n",
       "      <th>Self_Employed</th>\n",
       "      <th>ApplicantIncome</th>\n",
       "      <th>CoapplicantIncome</th>\n",
       "      <th>LoanAmount</th>\n",
       "      <th>Loan_Amount_Term</th>\n",
       "      <th>Credit_History</th>\n",
       "      <th>Property_Area</th>\n",
       "      <th>Loan_Status</th>\n",
       "    </tr>\n",
       "  </thead>\n",
       "  <tbody>\n",
       "    <tr>\n",
       "      <th>0</th>\n",
       "      <td>LP001002</td>\n",
       "      <td>Male</td>\n",
       "      <td>No</td>\n",
       "      <td>0</td>\n",
       "      <td>Graduate</td>\n",
       "      <td>No</td>\n",
       "      <td>5849</td>\n",
       "      <td>0.0</td>\n",
       "      <td>NaN</td>\n",
       "      <td>360.0</td>\n",
       "      <td>1.0</td>\n",
       "      <td>Urban</td>\n",
       "      <td>Y</td>\n",
       "    </tr>\n",
       "    <tr>\n",
       "      <th>1</th>\n",
       "      <td>LP001003</td>\n",
       "      <td>Male</td>\n",
       "      <td>Yes</td>\n",
       "      <td>1</td>\n",
       "      <td>Graduate</td>\n",
       "      <td>No</td>\n",
       "      <td>4583</td>\n",
       "      <td>1508.0</td>\n",
       "      <td>128.0</td>\n",
       "      <td>360.0</td>\n",
       "      <td>1.0</td>\n",
       "      <td>Rural</td>\n",
       "      <td>N</td>\n",
       "    </tr>\n",
       "    <tr>\n",
       "      <th>2</th>\n",
       "      <td>LP001005</td>\n",
       "      <td>Male</td>\n",
       "      <td>Yes</td>\n",
       "      <td>0</td>\n",
       "      <td>Graduate</td>\n",
       "      <td>Yes</td>\n",
       "      <td>3000</td>\n",
       "      <td>0.0</td>\n",
       "      <td>66.0</td>\n",
       "      <td>360.0</td>\n",
       "      <td>1.0</td>\n",
       "      <td>Urban</td>\n",
       "      <td>Y</td>\n",
       "    </tr>\n",
       "    <tr>\n",
       "      <th>3</th>\n",
       "      <td>LP001006</td>\n",
       "      <td>Male</td>\n",
       "      <td>Yes</td>\n",
       "      <td>0</td>\n",
       "      <td>Not Graduate</td>\n",
       "      <td>No</td>\n",
       "      <td>2583</td>\n",
       "      <td>2358.0</td>\n",
       "      <td>120.0</td>\n",
       "      <td>360.0</td>\n",
       "      <td>1.0</td>\n",
       "      <td>Urban</td>\n",
       "      <td>Y</td>\n",
       "    </tr>\n",
       "    <tr>\n",
       "      <th>4</th>\n",
       "      <td>LP001008</td>\n",
       "      <td>Male</td>\n",
       "      <td>No</td>\n",
       "      <td>0</td>\n",
       "      <td>Graduate</td>\n",
       "      <td>No</td>\n",
       "      <td>6000</td>\n",
       "      <td>0.0</td>\n",
       "      <td>141.0</td>\n",
       "      <td>360.0</td>\n",
       "      <td>1.0</td>\n",
       "      <td>Urban</td>\n",
       "      <td>Y</td>\n",
       "    </tr>\n",
       "  </tbody>\n",
       "</table>\n",
       "</div>"
      ],
      "text/plain": [
       "    Loan_ID Gender Married Dependents     Education Self_Employed  \\\n",
       "0  LP001002   Male      No          0      Graduate            No   \n",
       "1  LP001003   Male     Yes          1      Graduate            No   \n",
       "2  LP001005   Male     Yes          0      Graduate           Yes   \n",
       "3  LP001006   Male     Yes          0  Not Graduate            No   \n",
       "4  LP001008   Male      No          0      Graduate            No   \n",
       "\n",
       "   ApplicantIncome  CoapplicantIncome  LoanAmount  Loan_Amount_Term  \\\n",
       "0             5849                0.0         NaN             360.0   \n",
       "1             4583             1508.0       128.0             360.0   \n",
       "2             3000                0.0        66.0             360.0   \n",
       "3             2583             2358.0       120.0             360.0   \n",
       "4             6000                0.0       141.0             360.0   \n",
       "\n",
       "   Credit_History Property_Area Loan_Status  \n",
       "0             1.0         Urban           Y  \n",
       "1             1.0         Rural           N  \n",
       "2             1.0         Urban           Y  \n",
       "3             1.0         Urban           Y  \n",
       "4             1.0         Urban           Y  "
      ]
     },
     "execution_count": 326,
     "metadata": {},
     "output_type": "execute_result"
    }
   ],
   "source": [
    "df = pd.read_csv('loan_data.csv')\n",
    "df.head()"
   ]
  },
  {
   "cell_type": "code",
   "execution_count": 327,
   "id": "237aa612",
   "metadata": {},
   "outputs": [
    {
     "data": {
      "text/plain": [
       "(614, 13)"
      ]
     },
     "execution_count": 327,
     "metadata": {},
     "output_type": "execute_result"
    }
   ],
   "source": [
    "df.shape"
   ]
  },
  {
   "cell_type": "code",
   "execution_count": 328,
   "id": "a2c98e8e",
   "metadata": {},
   "outputs": [
    {
     "data": {
      "text/plain": [
       "Gender              13\n",
       "Married              3\n",
       "Dependents          15\n",
       "Self_Employed       32\n",
       "LoanAmount          22\n",
       "Loan_Amount_Term    14\n",
       "Credit_History      50\n",
       "dtype: int64"
      ]
     },
     "execution_count": 328,
     "metadata": {},
     "output_type": "execute_result"
    }
   ],
   "source": [
    "nv = df.isnull().sum()\n",
    "nv = nv[nv>0]\n",
    "nv"
   ]
  },
  {
   "cell_type": "code",
   "execution_count": 329,
   "id": "d3ab9c89",
   "metadata": {},
   "outputs": [
    {
     "data": {
      "text/plain": [
       "Y    422\n",
       "N    192\n",
       "Name: Loan_Status, dtype: int64"
      ]
     },
     "execution_count": 329,
     "metadata": {},
     "output_type": "execute_result"
    }
   ],
   "source": [
    "df['Loan_Status'].value_counts()"
   ]
  },
  {
   "cell_type": "code",
   "execution_count": 330,
   "id": "dbb0b38d",
   "metadata": {},
   "outputs": [
    {
     "data": {
      "text/plain": [
       "Loan_ID               object\n",
       "Gender                object\n",
       "Married               object\n",
       "Dependents            object\n",
       "Education             object\n",
       "Self_Employed         object\n",
       "ApplicantIncome        int64\n",
       "CoapplicantIncome    float64\n",
       "LoanAmount           float64\n",
       "Loan_Amount_Term     float64\n",
       "Credit_History       float64\n",
       "Property_Area         object\n",
       "Loan_Status           object\n",
       "dtype: object"
      ]
     },
     "execution_count": 330,
     "metadata": {},
     "output_type": "execute_result"
    }
   ],
   "source": [
    "df.dtypes"
   ]
  },
  {
   "cell_type": "code",
   "execution_count": 331,
   "id": "2ae37ff9",
   "metadata": {},
   "outputs": [
    {
     "name": "stdout",
     "output_type": "stream",
     "text": [
      "Gender\n",
      "Male      489\n",
      "Female    112\n",
      "Name: Gender, dtype: int64\n",
      "******************************\n",
      "Married\n",
      "Yes    398\n",
      "No     213\n",
      "Name: Married, dtype: int64\n",
      "******************************\n",
      "Dependents\n",
      "0     345\n",
      "1     102\n",
      "2     101\n",
      "3+     51\n",
      "Name: Dependents, dtype: int64\n",
      "******************************\n",
      "Self_Employed\n",
      "No     500\n",
      "Yes     82\n",
      "Name: Self_Employed, dtype: int64\n",
      "******************************\n",
      "LoanAmount\n",
      "120.0    20\n",
      "110.0    17\n",
      "100.0    15\n",
      "160.0    12\n",
      "187.0    12\n",
      "         ..\n",
      "240.0     1\n",
      "214.0     1\n",
      "59.0      1\n",
      "166.0     1\n",
      "253.0     1\n",
      "Name: LoanAmount, Length: 203, dtype: int64\n",
      "******************************\n",
      "Loan_Amount_Term\n",
      "360.0    512\n",
      "180.0     44\n",
      "480.0     15\n",
      "300.0     13\n",
      "240.0      4\n",
      "84.0       4\n",
      "120.0      3\n",
      "60.0       2\n",
      "36.0       2\n",
      "12.0       1\n",
      "Name: Loan_Amount_Term, dtype: int64\n",
      "******************************\n",
      "Credit_History\n",
      "1.0    475\n",
      "0.0     89\n",
      "Name: Credit_History, dtype: int64\n",
      "******************************\n"
     ]
    }
   ],
   "source": [
    "for i in nv.index:\n",
    "    print(i)\n",
    "    print(df[i].value_counts())\n",
    "    print('*'*30)"
   ]
  },
  {
   "cell_type": "code",
   "execution_count": 332,
   "id": "664ce396",
   "metadata": {},
   "outputs": [
    {
     "data": {
      "text/plain": [
       "Male      489\n",
       "Female    112\n",
       "Name: Gender, dtype: int64"
      ]
     },
     "execution_count": 332,
     "metadata": {},
     "output_type": "execute_result"
    }
   ],
   "source": [
    "df['Gender'].value_counts()"
   ]
  },
  {
   "cell_type": "code",
   "execution_count": 333,
   "id": "eb179a1e",
   "metadata": {},
   "outputs": [
    {
     "data": {
      "text/plain": [
       "Yes    398\n",
       "No     213\n",
       "Name: Married, dtype: int64"
      ]
     },
     "execution_count": 333,
     "metadata": {},
     "output_type": "execute_result"
    }
   ],
   "source": [
    "df['Married'].value_counts()"
   ]
  },
  {
   "cell_type": "code",
   "execution_count": 334,
   "id": "98233846",
   "metadata": {},
   "outputs": [],
   "source": [
    "cols = ['Gender','Married','Dependents','Self_Employed','Credit_History']\n",
    "for i in cols:\n",
    "    df[i] = df[i].fillna(df[i].mode()[0])"
   ]
  },
  {
   "cell_type": "code",
   "execution_count": 335,
   "id": "01ac9f93",
   "metadata": {},
   "outputs": [
    {
     "data": {
      "text/plain": [
       "LoanAmount          22\n",
       "Loan_Amount_Term    14\n",
       "dtype: int64"
      ]
     },
     "execution_count": 335,
     "metadata": {},
     "output_type": "execute_result"
    }
   ],
   "source": [
    "nv = df.isnull().sum()\n",
    "nv = nv[nv>0]\n",
    "nv"
   ]
  },
  {
   "cell_type": "code",
   "execution_count": 336,
   "id": "f3342ef8",
   "metadata": {},
   "outputs": [],
   "source": [
    "cols = ['LoanAmount','Loan_Amount_Term']\n",
    "for i in cols:\n",
    "    df[i] = df[i].fillna(df[i].median())"
   ]
  },
  {
   "cell_type": "code",
   "execution_count": 337,
   "id": "9c238331",
   "metadata": {},
   "outputs": [
    {
     "data": {
      "text/plain": [
       "Loan_ID              0\n",
       "Gender               0\n",
       "Married              0\n",
       "Dependents           0\n",
       "Education            0\n",
       "Self_Employed        0\n",
       "ApplicantIncome      0\n",
       "CoapplicantIncome    0\n",
       "LoanAmount           0\n",
       "Loan_Amount_Term     0\n",
       "Credit_History       0\n",
       "Property_Area        0\n",
       "Loan_Status          0\n",
       "dtype: int64"
      ]
     },
     "execution_count": 337,
     "metadata": {},
     "output_type": "execute_result"
    }
   ],
   "source": [
    "df.isnull().sum()"
   ]
  },
  {
   "cell_type": "code",
   "execution_count": 338,
   "id": "84063d43",
   "metadata": {},
   "outputs": [
    {
     "name": "stdout",
     "output_type": "stream",
     "text": [
      "Index(['Loan_ID', 'Gender', 'Married', 'Dependents', 'Education',\n",
      "       'Self_Employed', 'Property_Area', 'Loan_Status'],\n",
      "      dtype='object')\n",
      "Index(['ApplicantIncome', 'CoapplicantIncome', 'LoanAmount',\n",
      "       'Loan_Amount_Term', 'Credit_History'],\n",
      "      dtype='object')\n"
     ]
    }
   ],
   "source": [
    "cat_cols = df.dtypes[df.dtypes=='object'].index\n",
    "num_cols = df.dtypes[df.dtypes!='object'].index\n",
    "print(cat_cols)\n",
    "print(num_cols)"
   ]
  },
  {
   "cell_type": "code",
   "execution_count": 339,
   "id": "4a52459c",
   "metadata": {},
   "outputs": [
    {
     "data": {
      "image/png": "[encoded data removed]",
      "text/plain": [
       "<Figure size 1200x1500 with 7 Axes>"
      ]
     },
     "metadata": {},
     "output_type": "display_data"
    }
   ],
   "source": [
    "cols = ['Gender', 'Married', 'Dependents', 'Education',\n",
    "       'Self_Employed', 'Property_Area', 'Loan_Status']\n",
    "\n",
    "plt.figure(figsize=(12,15))\n",
    "for i in range(len(cols)):\n",
    "    plt.subplot(4,2,i+1)\n",
    "    sns.countplot(x=df[cols[i]])\n",
    "    plt.title(f'Countplot for {cols[i]}')\n",
    "\n",
    "plt.tight_layout()\n",
    "plt.show()"
   ]
  },
  {
   "cell_type": "code",
   "execution_count": 340,
   "id": "840308cf",
   "metadata": {},
   "outputs": [
    {
     "data": {
      "image/png": "[encoded data removed]",
      "text/plain": [
       "<Figure size 1200x1500 with 7 Axes>"
      ]
     },
     "metadata": {},
     "output_type": "display_data"
    }
   ],
   "source": [
    "cols = ['Gender', 'Married', 'Dependents', 'Education',\n",
    "       'Self_Employed', 'Property_Area','Loan_Amount_Term']\n",
    "\n",
    "plt.figure(figsize=(12,15))\n",
    "for i in range(len(cols)):\n",
    "    plt.subplot(4,2,i+1)\n",
    "    sns.countplot(x=df[cols[i]],hue=df['Loan_Status'])\n",
    "    plt.title(f'Countplot for {cols[i]} wrt Loan_Status')\n",
    "\n",
    "plt.tight_layout()\n",
    "plt.show()"
   ]
  },
  {
   "cell_type": "code",
   "execution_count": 341,
   "id": "49611e47",
   "metadata": {},
   "outputs": [
    {
     "data": {
      "text/plain": [
       "Index(['Loan_ID', 'Gender', 'Married', 'Dependents', 'Education',\n",
       "       'Self_Employed', 'ApplicantIncome', 'CoapplicantIncome', 'LoanAmount',\n",
       "       'Loan_Amount_Term', 'Credit_History', 'Property_Area', 'Loan_Status'],\n",
       "      dtype='object')"
      ]
     },
     "execution_count": 341,
     "metadata": {},
     "output_type": "execute_result"
    }
   ],
   "source": [
    "df.columns"
   ]
  },
  {
   "cell_type": "code",
   "execution_count": 342,
   "id": "662b7ebc",
   "metadata": {},
   "outputs": [
    {
     "data": {
      "image/png": "[encoded data removed]",
      "text/plain": [
       "<Figure size 640x480 with 1 Axes>"
      ]
     },
     "metadata": {},
     "output_type": "display_data"
    }
   ],
   "source": [
    "sns.boxplot(x=df['Loan_Status'],y=df['LoanAmount'])\n",
    "plt.show()"
   ]
  },
  {
   "cell_type": "code",
   "execution_count": 343,
   "id": "f43c7b43",
   "metadata": {},
   "outputs": [
    {
     "data": {
      "text/plain": [
       "Index(['ApplicantIncome', 'CoapplicantIncome', 'LoanAmount',\n",
       "       'Loan_Amount_Term', 'Credit_History'],\n",
       "      dtype='object')"
      ]
     },
     "execution_count": 343,
     "metadata": {},
     "output_type": "execute_result"
    }
   ],
   "source": [
    "num_cols"
   ]
  },
  {
   "cell_type": "code",
   "execution_count": 344,
   "id": "83921a47",
   "metadata": {},
   "outputs": [
    {
     "data": {
      "image/png": "[encoded data removed]",
      "text/plain": [
       "<Figure size 1200x1000 with 3 Axes>"
      ]
     },
     "metadata": {},
     "output_type": "display_data"
    }
   ],
   "source": [
    "cols = ['ApplicantIncome', 'CoapplicantIncome', 'LoanAmount']\n",
    "     \n",
    "\n",
    "plt.figure(figsize=(12,10))\n",
    "for i in range(len(cols)):\n",
    "    plt.subplot(2,2,i+1)\n",
    "    sns.boxplot(x=df[cols[i]])\n",
    "    plt.title(f'Boxplot for {cols[i]}')\n",
    "\n",
    "plt.tight_layout()\n",
    "plt.show()"
   ]
  },
  {
   "cell_type": "code",
   "execution_count": 345,
   "id": "724d656d",
   "metadata": {},
   "outputs": [
    {
     "name": "stderr",
     "output_type": "stream",
     "text": [
      "C:\\Users\\Dell\\AppData\\Local\\Temp\\ipykernel_1956\\906866642.py:1: FutureWarning: The default value of numeric_only in DataFrame.corr is deprecated. In a future version, it will default to False. Select only valid columns or specify the value of numeric_only to silence this warning.\n",
      "  corr = df.corr()\n"
     ]
    },
    {
     "data": {
      "image/png": "[encoded data removed]",
      "text/plain": [
       "<Figure size 640x480 with 2 Axes>"
      ]
     },
     "metadata": {},
     "output_type": "display_data"
    }
   ],
   "source": [
    "corr = df.corr()\n",
    "\n",
    "sns.heatmap(corr,annot=True,cmap='RdBu')\n",
    "plt.show()"
   ]
  },
  {
   "cell_type": "code",
   "execution_count": 346,
   "id": "5cfe06bc",
   "metadata": {},
   "outputs": [
    {
     "data": {
      "text/html": [
       "<div>\n",
       "<style scoped>\n",
       "    .dataframe tbody tr th:only-of-type {\n",
       "        vertical-align: middle;\n",
       "    }\n",
       "\n",
       "    .dataframe tbody tr th {\n",
       "        vertical-align: top;\n",
       "    }\n",
       "\n",
       "    .dataframe thead th {\n",
       "        text-align: right;\n",
       "    }\n",
       "</style>\n",
       "<table border=\"1\" class=\"dataframe\">\n",
       "  <thead>\n",
       "    <tr style=\"text-align: right;\">\n",
       "      <th></th>\n",
       "      <th>min</th>\n",
       "      <th>1%</th>\n",
       "      <th>2%</th>\n",
       "      <th>3%</th>\n",
       "      <th>50%</th>\n",
       "      <th>98%</th>\n",
       "      <th>99%</th>\n",
       "      <th>max</th>\n",
       "    </tr>\n",
       "  </thead>\n",
       "  <tbody>\n",
       "    <tr>\n",
       "      <th>ApplicantIncome</th>\n",
       "      <td>150.0</td>\n",
       "      <td>1025.00</td>\n",
       "      <td>1554.12</td>\n",
       "      <td>1800.00</td>\n",
       "      <td>3812.5</td>\n",
       "      <td>19666.04</td>\n",
       "      <td>32540.41</td>\n",
       "      <td>81000.0</td>\n",
       "    </tr>\n",
       "    <tr>\n",
       "      <th>CoapplicantIncome</th>\n",
       "      <td>0.0</td>\n",
       "      <td>0.00</td>\n",
       "      <td>0.00</td>\n",
       "      <td>0.00</td>\n",
       "      <td>1188.5</td>\n",
       "      <td>7198.56</td>\n",
       "      <td>8895.89</td>\n",
       "      <td>41667.0</td>\n",
       "    </tr>\n",
       "    <tr>\n",
       "      <th>LoanAmount</th>\n",
       "      <td>9.0</td>\n",
       "      <td>30.65</td>\n",
       "      <td>44.00</td>\n",
       "      <td>48.78</td>\n",
       "      <td>128.0</td>\n",
       "      <td>427.94</td>\n",
       "      <td>495.87</td>\n",
       "      <td>700.0</td>\n",
       "    </tr>\n",
       "    <tr>\n",
       "      <th>Loan_Amount_Term</th>\n",
       "      <td>12.0</td>\n",
       "      <td>84.00</td>\n",
       "      <td>180.00</td>\n",
       "      <td>180.00</td>\n",
       "      <td>360.0</td>\n",
       "      <td>480.00</td>\n",
       "      <td>480.00</td>\n",
       "      <td>480.0</td>\n",
       "    </tr>\n",
       "    <tr>\n",
       "      <th>Credit_History</th>\n",
       "      <td>0.0</td>\n",
       "      <td>0.00</td>\n",
       "      <td>0.00</td>\n",
       "      <td>0.00</td>\n",
       "      <td>1.0</td>\n",
       "      <td>1.00</td>\n",
       "      <td>1.00</td>\n",
       "      <td>1.0</td>\n",
       "    </tr>\n",
       "  </tbody>\n",
       "</table>\n",
       "</div>"
      ],
      "text/plain": [
       "                     min       1%       2%       3%     50%       98%  \\\n",
       "ApplicantIncome    150.0  1025.00  1554.12  1800.00  3812.5  19666.04   \n",
       "CoapplicantIncome    0.0     0.00     0.00     0.00  1188.5   7198.56   \n",
       "LoanAmount           9.0    30.65    44.00    48.78   128.0    427.94   \n",
       "Loan_Amount_Term    12.0    84.00   180.00   180.00   360.0    480.00   \n",
       "Credit_History       0.0     0.00     0.00     0.00     1.0      1.00   \n",
       "\n",
       "                        99%      max  \n",
       "ApplicantIncome    32540.41  81000.0  \n",
       "CoapplicantIncome   8895.89  41667.0  \n",
       "LoanAmount           495.87    700.0  \n",
       "Loan_Amount_Term     480.00    480.0  \n",
       "Credit_History         1.00      1.0  "
      ]
     },
     "execution_count": 346,
     "metadata": {},
     "output_type": "execute_result"
    }
   ],
   "source": [
    "a = df[num_cols].describe(percentiles=[0.01,0.02,0.03,0.98,0.99]).T\n",
    "a = a.iloc[:,3:]\n",
    "a"
   ]
  },
  {
   "cell_type": "code",
   "execution_count": 347,
   "id": "b4a1eca4",
   "metadata": {},
   "outputs": [],
   "source": [
    "cols = ['ApplicantIncome','CoapplicantIncome','LoanAmount']\n",
    "\n",
    "# def outlier_treatment(x):\n",
    "#     x = x.clip(upper=x.quantile(0.99))\n",
    "#     x = x.clip(lower=x.quantile(0.01))\n",
    "#     return x"
   ]
  },
  {
   "cell_type": "code",
   "execution_count": 348,
   "id": "42df1238",
   "metadata": {},
   "outputs": [],
   "source": [
    "# df[cols] = df[cols].apply(outlier_treatment)"
   ]
  },
  {
   "cell_type": "code",
   "execution_count": 349,
   "id": "c80b4e35",
   "metadata": {},
   "outputs": [],
   "source": [
    "for i in df[cols]:\n",
    "    q1 = df[i].quantile(0.25)\n",
    "    q3 = df[i].quantile(0.75)\n",
    "    iqr = q3 - q1\n",
    "    upper = q3 + 1.5*iqr\n",
    "    lower = q1 - 1.5*iqr\n",
    "    df[i] = np.where(df[i]>upper,upper,df[i])\n",
    "    df[i] = np.where(df[i]<lower,lower,df[i])"
   ]
  },
  {
   "cell_type": "code",
   "execution_count": 350,
   "id": "c437caa2",
   "metadata": {},
   "outputs": [
    {
     "data": {
      "text/html": [
       "<div>\n",
       "<style scoped>\n",
       "    .dataframe tbody tr th:only-of-type {\n",
       "        vertical-align: middle;\n",
       "    }\n",
       "\n",
       "    .dataframe tbody tr th {\n",
       "        vertical-align: top;\n",
       "    }\n",
       "\n",
       "    .dataframe thead th {\n",
       "        text-align: right;\n",
       "    }\n",
       "</style>\n",
       "<table border=\"1\" class=\"dataframe\">\n",
       "  <thead>\n",
       "    <tr style=\"text-align: right;\">\n",
       "      <th></th>\n",
       "      <th>min</th>\n",
       "      <th>1%</th>\n",
       "      <th>2%</th>\n",
       "      <th>3%</th>\n",
       "      <th>50%</th>\n",
       "      <th>98%</th>\n",
       "      <th>99%</th>\n",
       "      <th>max</th>\n",
       "    </tr>\n",
       "  </thead>\n",
       "  <tbody>\n",
       "    <tr>\n",
       "      <th>ApplicantIncome</th>\n",
       "      <td>150.0</td>\n",
       "      <td>1025.00</td>\n",
       "      <td>1554.12</td>\n",
       "      <td>1800.00</td>\n",
       "      <td>3812.5</td>\n",
       "      <td>10171.250</td>\n",
       "      <td>10171.250</td>\n",
       "      <td>10171.250</td>\n",
       "    </tr>\n",
       "    <tr>\n",
       "      <th>CoapplicantIncome</th>\n",
       "      <td>0.0</td>\n",
       "      <td>0.00</td>\n",
       "      <td>0.00</td>\n",
       "      <td>0.00</td>\n",
       "      <td>1188.5</td>\n",
       "      <td>5743.125</td>\n",
       "      <td>5743.125</td>\n",
       "      <td>5743.125</td>\n",
       "    </tr>\n",
       "    <tr>\n",
       "      <th>LoanAmount</th>\n",
       "      <td>9.0</td>\n",
       "      <td>30.65</td>\n",
       "      <td>44.00</td>\n",
       "      <td>48.78</td>\n",
       "      <td>128.0</td>\n",
       "      <td>261.500</td>\n",
       "      <td>261.500</td>\n",
       "      <td>261.500</td>\n",
       "    </tr>\n",
       "    <tr>\n",
       "      <th>Loan_Amount_Term</th>\n",
       "      <td>12.0</td>\n",
       "      <td>84.00</td>\n",
       "      <td>180.00</td>\n",
       "      <td>180.00</td>\n",
       "      <td>360.0</td>\n",
       "      <td>480.000</td>\n",
       "      <td>480.000</td>\n",
       "      <td>480.000</td>\n",
       "    </tr>\n",
       "    <tr>\n",
       "      <th>Credit_History</th>\n",
       "      <td>0.0</td>\n",
       "      <td>0.00</td>\n",
       "      <td>0.00</td>\n",
       "      <td>0.00</td>\n",
       "      <td>1.0</td>\n",
       "      <td>1.000</td>\n",
       "      <td>1.000</td>\n",
       "      <td>1.000</td>\n",
       "    </tr>\n",
       "  </tbody>\n",
       "</table>\n",
       "</div>"
      ],
      "text/plain": [
       "                     min       1%       2%       3%     50%        98%  \\\n",
       "ApplicantIncome    150.0  1025.00  1554.12  1800.00  3812.5  10171.250   \n",
       "CoapplicantIncome    0.0     0.00     0.00     0.00  1188.5   5743.125   \n",
       "LoanAmount           9.0    30.65    44.00    48.78   128.0    261.500   \n",
       "Loan_Amount_Term    12.0    84.00   180.00   180.00   360.0    480.000   \n",
       "Credit_History       0.0     0.00     0.00     0.00     1.0      1.000   \n",
       "\n",
       "                         99%        max  \n",
       "ApplicantIncome    10171.250  10171.250  \n",
       "CoapplicantIncome   5743.125   5743.125  \n",
       "LoanAmount           261.500    261.500  \n",
       "Loan_Amount_Term     480.000    480.000  \n",
       "Credit_History         1.000      1.000  "
      ]
     },
     "execution_count": 350,
     "metadata": {},
     "output_type": "execute_result"
    }
   ],
   "source": [
    "a = df[num_cols].describe(percentiles=[0.01,0.02,0.03,0.98,0.99]).T\n",
    "a = a.iloc[:,3:]\n",
    "a"
   ]
  },
  {
   "cell_type": "markdown",
   "id": "6a601ad6",
   "metadata": {},
   "source": [
    "#### Encode Categorical features"
   ]
  },
  {
   "cell_type": "code",
   "execution_count": 351,
   "id": "68ca659d",
   "metadata": {},
   "outputs": [
    {
     "data": {
      "text/plain": [
       "Index(['Loan_ID', 'Gender', 'Married', 'Dependents', 'Education',\n",
       "       'Self_Employed', 'Property_Area', 'Loan_Status'],\n",
       "      dtype='object')"
      ]
     },
     "execution_count": 351,
     "metadata": {},
     "output_type": "execute_result"
    }
   ],
   "source": [
    "cat_cols"
   ]
  },
  {
   "cell_type": "code",
   "execution_count": 352,
   "id": "5950ceae",
   "metadata": {},
   "outputs": [
    {
     "name": "stdout",
     "output_type": "stream",
     "text": [
      "Gender ['Male' 'Female']\n",
      "Married ['No' 'Yes']\n",
      "Dependents ['0' '1' '2' '3+']\n",
      "Education ['Graduate' 'Not Graduate']\n",
      "Self_Employed ['No' 'Yes']\n",
      "Property_Area ['Urban' 'Rural' 'Semiurban']\n",
      "Loan_Status ['Y' 'N']\n"
     ]
    }
   ],
   "source": [
    "for i in cat_cols[1:]:\n",
    "    print(i,df[i].unique())"
   ]
  },
  {
   "cell_type": "code",
   "execution_count": 353,
   "id": "ed7059fd",
   "metadata": {},
   "outputs": [],
   "source": [
    "# df['Gender'] = df['Gender'].map({'Male':1,'Female':0})\n",
    "# df['Married'] = df['Married'].map({'Yes':1,'No':0})\n",
    "# df['Education'] = df['Education'].map({'Graduate':1,'Not Graduate':0})\n",
    "# df['Self_Employed'] = df['Self_Employed'].map({'Yes':1,'No':0})"
   ]
  },
  {
   "cell_type": "code",
   "execution_count": 354,
   "id": "31f56220",
   "metadata": {},
   "outputs": [
    {
     "data": {
      "text/plain": [
       "Loan_ID               object\n",
       "Gender                object\n",
       "Married               object\n",
       "Dependents            object\n",
       "Education             object\n",
       "Self_Employed         object\n",
       "ApplicantIncome      float64\n",
       "CoapplicantIncome    float64\n",
       "LoanAmount           float64\n",
       "Loan_Amount_Term     float64\n",
       "Credit_History       float64\n",
       "Property_Area         object\n",
       "Loan_Status           object\n",
       "dtype: object"
      ]
     },
     "execution_count": 354,
     "metadata": {},
     "output_type": "execute_result"
    }
   ],
   "source": [
    "df.dtypes"
   ]
  },
  {
   "cell_type": "code",
   "execution_count": 355,
   "id": "337704f8",
   "metadata": {},
   "outputs": [
    {
     "data": {
      "text/plain": [
       "Y    422\n",
       "N    192\n",
       "Name: Loan_Status, dtype: int64"
      ]
     },
     "execution_count": 355,
     "metadata": {},
     "output_type": "execute_result"
    }
   ],
   "source": [
    "df['Loan_Status'].value_counts()"
   ]
  },
  {
   "cell_type": "code",
   "execution_count": 356,
   "id": "244bb83b",
   "metadata": {},
   "outputs": [
    {
     "name": "stdout",
     "output_type": "stream",
     "text": [
      "(614, 16)\n"
     ]
    },
    {
     "data": {
      "text/plain": [
       "Index(['Loan_ID', 'ApplicantIncome', 'CoapplicantIncome', 'LoanAmount',\n",
       "       'Loan_Amount_Term', 'Credit_History', 'Loan_Status', 'Dependents_1',\n",
       "       'Dependents_2', 'Dependents_3+', 'Property_Area_Semiurban',\n",
       "       'Property_Area_Urban', 'Gender_Male', 'Married_Yes',\n",
       "       'Education_Not Graduate', 'Self_Employed_Yes'],\n",
       "      dtype='object')"
      ]
     },
     "execution_count": 356,
     "metadata": {},
     "output_type": "execute_result"
    }
   ],
   "source": [
    "df_dum = pd.get_dummies(data=df,columns=['Dependents','Property_Area',\n",
    "                                        \"Gender\",'Married','Education','Self_Employed'],\n",
    "                        drop_first=True)\n",
    "print(df_dum.shape)\n",
    "df_dum.columns"
   ]
  },
  {
   "cell_type": "code",
   "execution_count": 357,
   "id": "160189e8",
   "metadata": {},
   "outputs": [],
   "source": [
    "# df['Loan_Status'] = df['Loan_Status'].map({'Y':1,'N':0})\n",
    "# df['Loan_Status'].value_counts()"
   ]
  },
  {
   "cell_type": "markdown",
   "id": "b4836ae9",
   "metadata": {},
   "source": [
    "#### Select x and y"
   ]
  },
  {
   "cell_type": "code",
   "execution_count": 358,
   "id": "9ce1d5bf",
   "metadata": {},
   "outputs": [
    {
     "data": {
      "text/plain": [
       "1    422\n",
       "0    192\n",
       "Name: Loan_Status, dtype: int64"
      ]
     },
     "execution_count": 358,
     "metadata": {},
     "output_type": "execute_result"
    }
   ],
   "source": [
    "df_dum['Loan_Status'] = df_dum['Loan_Status'].map({'Y':1,'N':0})\n",
    "df_dum['Loan_Status'].value_counts()"
   ]
  },
  {
   "cell_type": "code",
   "execution_count": 359,
   "id": "ebf19c8a",
   "metadata": {},
   "outputs": [
    {
     "name": "stdout",
     "output_type": "stream",
     "text": [
      "<class 'pandas.core.frame.DataFrame'>\n",
      "<class 'pandas.core.series.Series'>\n",
      "(614, 14)\n",
      "(614,)\n"
     ]
    }
   ],
   "source": [
    "x = df_dum.drop(['Loan_ID','Loan_Status'],axis=1)\n",
    "y = df_dum['Loan_Status']\n",
    "print(type(x))\n",
    "print(type(y))\n",
    "print(x.shape)\n",
    "print(y.shape)"
   ]
  },
  {
   "cell_type": "code",
   "execution_count": 360,
   "id": "dac635f5",
   "metadata": {},
   "outputs": [
    {
     "data": {
      "text/plain": [
       "uint8      9\n",
       "float64    5\n",
       "dtype: int64"
      ]
     },
     "execution_count": 360,
     "metadata": {},
     "output_type": "execute_result"
    }
   ],
   "source": [
    "x.dtypes.value_counts()"
   ]
  },
  {
   "cell_type": "code",
   "execution_count": 361,
   "id": "256fd603",
   "metadata": {},
   "outputs": [],
   "source": [
    "from sklearn.model_selection import train_test_split"
   ]
  },
  {
   "cell_type": "code",
   "execution_count": 362,
   "id": "71d8cc4d",
   "metadata": {},
   "outputs": [
    {
     "name": "stdout",
     "output_type": "stream",
     "text": [
      "(429, 14)\n",
      "(185, 14)\n",
      "(429,)\n",
      "(185,)\n"
     ]
    }
   ],
   "source": [
    "x_train,x_test,y_train,y_test = train_test_split(x,y,test_size=0.30,random_state=42)\n",
    "print(x_train.shape)\n",
    "print(x_test.shape)\n",
    "print(y_train.shape)\n",
    "print(y_test.shape)"
   ]
  },
  {
   "cell_type": "code",
   "execution_count": 364,
   "id": "bbaa8ceb",
   "metadata": {},
   "outputs": [],
   "source": [
    "# df['Loan_Status'].value_counts()"
   ]
  },
  {
   "cell_type": "code",
   "execution_count": 175,
   "id": "125d723d",
   "metadata": {},
   "outputs": [],
   "source": [
    "#### "
   ]
  },
  {
   "cell_type": "code",
   "execution_count": 365,
   "id": "d7b87baa",
   "metadata": {},
   "outputs": [],
   "source": [
    "from sklearn.metrics import *"
   ]
  },
  {
   "cell_type": "code",
   "execution_count": 366,
   "id": "714a42db",
   "metadata": {},
   "outputs": [],
   "source": [
    "def eval_model(model,x_train,y_train,x_test,y_test,model_name):\n",
    "    model.fit(x_train,y_train)\n",
    "    ypred = model.predict(x_test)\n",
    "    cm = confusion_matrix(y_test,ypred)\n",
    "    crep = classification_report(y_test,ypred)\n",
    "    print(cm)\n",
    "    print(crep)\n",
    "    train_acc = model.score(x_train,y_train)\n",
    "    test_acc = model.score(x_test,y_test)\n",
    "    pre1 = precision_score(y_test,ypred)\n",
    "    rec1 = recall_score(y_test,ypred)\n",
    "    res = pd.DataFrame({'Train_Acc':train_acc,'Test_Acc':test_acc,'Pre1':pre1,'Rec1':rec1},\n",
    "                      index=[model_name])\n",
    "    return res,ypred"
   ]
  },
  {
   "cell_type": "markdown",
   "id": "33a1c038",
   "metadata": {},
   "source": [
    "#### 1) LogReg Model"
   ]
  },
  {
   "cell_type": "code",
   "execution_count": 367,
   "id": "1867a97d",
   "metadata": {},
   "outputs": [],
   "source": [
    "from sklearn.linear_model import LogisticRegression"
   ]
  },
  {
   "cell_type": "code",
   "execution_count": 369,
   "id": "01b843fa",
   "metadata": {},
   "outputs": [
    {
     "name": "stdout",
     "output_type": "stream",
     "text": [
      "[[ 27  38]\n",
      " [  2 118]]\n",
      "              precision    recall  f1-score   support\n",
      "\n",
      "           0       0.93      0.42      0.57        65\n",
      "           1       0.76      0.98      0.86       120\n",
      "\n",
      "    accuracy                           0.78       185\n",
      "   macro avg       0.84      0.70      0.71       185\n",
      "weighted avg       0.82      0.78      0.76       185\n",
      "\n"
     ]
    },
    {
     "data": {
      "text/html": [
       "<div>\n",
       "<style scoped>\n",
       "    .dataframe tbody tr th:only-of-type {\n",
       "        vertical-align: middle;\n",
       "    }\n",
       "\n",
       "    .dataframe tbody tr th {\n",
       "        vertical-align: top;\n",
       "    }\n",
       "\n",
       "    .dataframe thead th {\n",
       "        text-align: right;\n",
       "    }\n",
       "</style>\n",
       "<table border=\"1\" class=\"dataframe\">\n",
       "  <thead>\n",
       "    <tr style=\"text-align: right;\">\n",
       "      <th></th>\n",
       "      <th>Train_Acc</th>\n",
       "      <th>Test_Acc</th>\n",
       "      <th>Pre1</th>\n",
       "      <th>Rec1</th>\n",
       "    </tr>\n",
       "  </thead>\n",
       "  <tbody>\n",
       "    <tr>\n",
       "      <th>LogReg</th>\n",
       "      <td>0.818182</td>\n",
       "      <td>0.783784</td>\n",
       "      <td>0.75641</td>\n",
       "      <td>0.983333</td>\n",
       "    </tr>\n",
       "  </tbody>\n",
       "</table>\n",
       "</div>"
      ],
      "text/plain": [
       "        Train_Acc  Test_Acc     Pre1      Rec1\n",
       "LogReg   0.818182  0.783784  0.75641  0.983333"
      ]
     },
     "execution_count": 369,
     "metadata": {},
     "output_type": "execute_result"
    }
   ],
   "source": [
    "lr1 = LogisticRegression()\n",
    "lr1_res,ypred_lr1 =  gen_res(lr1,x_train,y_train,x_test,y_test,'LogReg')\n",
    "lr1_res"
   ]
  },
  {
   "cell_type": "code",
   "execution_count": 370,
   "id": "4212bfc8",
   "metadata": {},
   "outputs": [
    {
     "name": "stdout",
     "output_type": "stream",
     "text": [
      "[[0.17038744 0.82961256]\n",
      " [0.12566267 0.87433733]\n",
      " [0.18300353 0.81699647]\n",
      " [0.21537813 0.78462187]\n",
      " [0.15139028 0.84860972]\n",
      " [0.26022374 0.73977626]\n",
      " [0.09265312 0.90734688]\n",
      " [0.18549488 0.81450512]\n",
      " [0.27884869 0.72115131]\n",
      " [0.26230381 0.73769619]]\n"
     ]
    }
   ],
   "source": [
    "ypred_lr1_proba = lr1.predict_proba(x_test)\n",
    "print(ypred_lr1_proba[:10])"
   ]
  },
  {
   "cell_type": "code",
   "execution_count": 372,
   "id": "17c1bb2a",
   "metadata": {},
   "outputs": [],
   "source": [
    "def plot_roc_auc(model,ytest,ypred_proba):\n",
    "    fpr,tpr,thresh = roc_curve(ytest,ypred_proba[:,1])\n",
    "    auc = roc_auc_score(ytest,ypred_proba[:,1])\n",
    "    print('AUC',auc)\n",
    "    plt.plot(fpr,tpr)\n",
    "    plt.plot([0,1],[0,1],label='TPR=FPR',color='red')\n",
    "    plt.xlabel('FPR',fontsize=15)\n",
    "    plt.ylabel('TPR',fontsize=15)\n",
    "    plt.title('ROC Curve',fontsize=16)\n",
    "    plt.legend()\n",
    "    plt.show()\n",
    "    return fpr,tpr,thresh"
   ]
  },
  {
   "cell_type": "code",
   "execution_count": 373,
   "id": "c11d5695",
   "metadata": {},
   "outputs": [
    {
     "name": "stdout",
     "output_type": "stream",
     "text": [
      "AUC 0.7766666666666666\n"
     ]
    },
    {
     "data": {
      "image/png": "[encoded data removed]",
      "text/plain": [
       "<Figure size 640x480 with 1 Axes>"
      ]
     },
     "metadata": {},
     "output_type": "display_data"
    }
   ],
   "source": [
    "fpr_lr1,tpr_lr1,thresh_lr1 = plot_roc_auc(lr1,y_test,ypred_lr1_proba)"
   ]
  },
  {
   "cell_type": "code",
   "execution_count": 375,
   "id": "d634d750",
   "metadata": {},
   "outputs": [
    {
     "name": "stdout",
     "output_type": "stream",
     "text": [
      "0.6008854436415878\n"
     ]
    }
   ],
   "source": [
    "best_thresh1 = thresh_lr1[np.argmax(abs(tpr_lr1-fpr_lr1))]\n",
    "print(best_thresh1)"
   ]
  },
  {
   "cell_type": "code",
   "execution_count": 376,
   "id": "dcad664c",
   "metadata": {},
   "outputs": [
    {
     "name": "stdout",
     "output_type": "stream",
     "text": [
      "0.7486177997955475\n"
     ]
    }
   ],
   "source": [
    "best_thresh_idx = np.argmax(tpr_lr1*(1-fpr_lr1))\n",
    "print(thresh_lr1[best_thresh_idx])"
   ]
  },
  {
   "cell_type": "code",
   "execution_count": 377,
   "id": "0801ecfb",
   "metadata": {},
   "outputs": [
    {
     "name": "stdout",
     "output_type": "stream",
     "text": [
      "0.7486177997955475\n"
     ]
    }
   ],
   "source": [
    "best_thresh3 = thresh_lr1[np.argmax(np.sqrt(tpr_lr1*(1-fpr_lr1)))] \n",
    "print(best_thresh3)"
   ]
  },
  {
   "cell_type": "code",
   "execution_count": 378,
   "id": "ab9959dc",
   "metadata": {},
   "outputs": [
    {
     "name": "stdout",
     "output_type": "stream",
     "text": [
      "[1 1 1 1 1 1 1 1 1 1 0 1 1 1 1 1 1 1 1 1 1 1 1 1 1 1 1 1 1 1 1 1 1 1 1 0 1\n",
      " 1 1 1 1 1 1 1 1 1 1 0 0 0 0 1 0 1 1 1 1 0 0 1 0 1 0 1 1 1 1 1 1 1 0 1 1 1\n",
      " 0 1 1 0 0 1 1 1 1 1 1 1 1 0 1 1 1 0 0 1 1 1 1 1 1 1 1 1 0 1 1 0 1 0 1 1 1\n",
      " 0 1 1 1 1 1 1 1 1 1 1 1 1 1 1 1 0 1 1 0 1 1 0 1 1 1 1 1 1 1 1 1 1 1 1 1 1\n",
      " 1 1 1 1 0 0 1 1 1 1 0 1 1 0 1 1 1 1 1 1 0 1 0 0 1 0 1 1 1 1 1 1 1 1 1 1 0]\n"
     ]
    }
   ],
   "source": [
    "ypred_lr2 = np.where(ypred_lr1_proba[:,1]>best_thresh1,1,0)\n",
    "print(ypred_lr2)"
   ]
  },
  {
   "cell_type": "code",
   "execution_count": 379,
   "id": "679a4da6",
   "metadata": {},
   "outputs": [
    {
     "data": {
      "text/html": [
       "<div>\n",
       "<style scoped>\n",
       "    .dataframe tbody tr th:only-of-type {\n",
       "        vertical-align: middle;\n",
       "    }\n",
       "\n",
       "    .dataframe tbody tr th {\n",
       "        vertical-align: top;\n",
       "    }\n",
       "\n",
       "    .dataframe thead th {\n",
       "        text-align: right;\n",
       "    }\n",
       "</style>\n",
       "<table border=\"1\" class=\"dataframe\">\n",
       "  <thead>\n",
       "    <tr style=\"text-align: right;\">\n",
       "      <th></th>\n",
       "      <th>Pre1</th>\n",
       "      <th>Rec1</th>\n",
       "      <th>Acc</th>\n",
       "    </tr>\n",
       "  </thead>\n",
       "  <tbody>\n",
       "    <tr>\n",
       "      <th>LogReg(th=0.601)</th>\n",
       "      <td>0.768212</td>\n",
       "      <td>0.966667</td>\n",
       "      <td>0.789189</td>\n",
       "    </tr>\n",
       "  </tbody>\n",
       "</table>\n",
       "</div>"
      ],
      "text/plain": [
       "                      Pre1      Rec1       Acc\n",
       "LogReg(th=0.601)  0.768212  0.966667  0.789189"
      ]
     },
     "execution_count": 379,
     "metadata": {},
     "output_type": "execute_result"
    }
   ],
   "source": [
    "acc_lr2 = accuracy_score(y_test,ypred_lr2)  \n",
    "pre_lr2 = precision_score(y_test,ypred_lr2)  # pre_score for 1\n",
    "rec_lr2 = recall_score(y_test,ypred_lr2)     # rec_score for 1\n",
    "\n",
    "lr2_res = pd.DataFrame({'Pre1':pre_lr2,'Rec1':rec_lr2,'Acc':acc_lr2},\n",
    "                       index=[f'LogReg(th={round(best_thresh1,3)})'])\n",
    "lr2_res"
   ]
  },
  {
   "cell_type": "markdown",
   "id": "f0a821bd",
   "metadata": {},
   "source": [
    "#### KS Test"
   ]
  },
  {
   "cell_type": "code",
   "execution_count": 380,
   "id": "6e03d511",
   "metadata": {},
   "outputs": [],
   "source": [
    "ypred_lr_proba = lr1.predict_proba(x_test)"
   ]
  },
  {
   "cell_type": "code",
   "execution_count": 381,
   "id": "49434d9d",
   "metadata": {},
   "outputs": [
    {
     "data": {
      "text/plain": [
       "array([[0.17038744, 0.82961256],\n",
       "       [0.12566267, 0.87433733],\n",
       "       [0.18300353, 0.81699647],\n",
       "       [0.21537813, 0.78462187],\n",
       "       [0.15139028, 0.84860972],\n",
       "       [0.26022374, 0.73977626],\n",
       "       [0.09265312, 0.90734688],\n",
       "       [0.18549488, 0.81450512],\n",
       "       [0.27884869, 0.72115131],\n",
       "       [0.26230381, 0.73769619],\n",
       "       [0.58254432, 0.41745568],\n",
       "       [0.22442596, 0.77557404],\n",
       "       [0.16638931, 0.83361069],\n",
       "       [0.22082987, 0.77917013],\n",
       "       [0.11564213, 0.88435787],\n",
       "       [0.12993035, 0.87006965],\n",
       "       [0.25479731, 0.74520269],\n",
       "       [0.14957542, 0.85042458],\n",
       "       [0.16779851, 0.83220149],\n",
       "       [0.05159777, 0.94840223],\n",
       "       [0.21919548, 0.78080452],\n",
       "       [0.1148858 , 0.8851142 ],\n",
       "       [0.20125748, 0.79874252],\n",
       "       [0.2251569 , 0.7748431 ],\n",
       "       [0.19606136, 0.80393864],\n",
       "       [0.28003723, 0.71996277],\n",
       "       [0.36917642, 0.63082358],\n",
       "       [0.19395628, 0.80604372],\n",
       "       [0.150499  , 0.849501  ],\n",
       "       [0.06601255, 0.93398745],\n",
       "       [0.12826767, 0.87173233],\n",
       "       [0.05810463, 0.94189537],\n",
       "       [0.14163762, 0.85836238],\n",
       "       [0.2513822 , 0.7486178 ],\n",
       "       [0.29220721, 0.70779279],\n",
       "       [0.92907696, 0.07092304],\n",
       "       [0.22732115, 0.77267885],\n",
       "       [0.16636625, 0.83363375],\n",
       "       [0.07657668, 0.92342332],\n",
       "       [0.1550779 , 0.8449221 ],\n",
       "       [0.32029626, 0.67970374],\n",
       "       [0.35337608, 0.64662392],\n",
       "       [0.30333055, 0.69666945],\n",
       "       [0.18826226, 0.81173774],\n",
       "       [0.23807963, 0.76192037],\n",
       "       [0.13370176, 0.86629824],\n",
       "       [0.32045939, 0.67954061],\n",
       "       [0.80249726, 0.19750274],\n",
       "       [0.84444393, 0.15555607],\n",
       "       [0.73418211, 0.26581789],\n",
       "       [0.42338212, 0.57661788],\n",
       "       [0.18074788, 0.81925212],\n",
       "       [0.84660191, 0.15339809],\n",
       "       [0.31493066, 0.68506934],\n",
       "       [0.22130113, 0.77869887],\n",
       "       [0.24476517, 0.75523483],\n",
       "       [0.28133874, 0.71866126],\n",
       "       [0.43259583, 0.56740417],\n",
       "       [0.8926839 , 0.1073161 ],\n",
       "       [0.12853942, 0.87146058],\n",
       "       [0.64145392, 0.35854608],\n",
       "       [0.15713574, 0.84286426],\n",
       "       [0.80033287, 0.19966713],\n",
       "       [0.24654005, 0.75345995],\n",
       "       [0.15000502, 0.84999498],\n",
       "       [0.27547854, 0.72452146],\n",
       "       [0.09085967, 0.90914033],\n",
       "       [0.09953818, 0.90046182],\n",
       "       [0.14325329, 0.85674671],\n",
       "       [0.3230644 , 0.6769356 ],\n",
       "       [0.88951054, 0.11048946],\n",
       "       [0.16720955, 0.83279045],\n",
       "       [0.142147  , 0.857853  ],\n",
       "       [0.19101013, 0.80898987],\n",
       "       [0.60546964, 0.39453036],\n",
       "       [0.20008993, 0.79991007],\n",
       "       [0.21776375, 0.78223625],\n",
       "       [0.89237208, 0.10762792],\n",
       "       [0.83405307, 0.16594693],\n",
       "       [0.12965176, 0.87034824],\n",
       "       [0.16744215, 0.83255785],\n",
       "       [0.06699783, 0.93300217],\n",
       "       [0.09806446, 0.90193554],\n",
       "       [0.15995651, 0.84004349],\n",
       "       [0.24642242, 0.75357758],\n",
       "       [0.13642817, 0.86357183],\n",
       "       [0.34529651, 0.65470349],\n",
       "       [0.66817221, 0.33182779],\n",
       "       [0.2482265 , 0.7517735 ],\n",
       "       [0.18593556, 0.81406444],\n",
       "       [0.1135652 , 0.8864348 ],\n",
       "       [0.88027147, 0.11972853],\n",
       "       [0.82316548, 0.17683452],\n",
       "       [0.20482847, 0.79517153],\n",
       "       [0.11825579, 0.88174421],\n",
       "       [0.14801857, 0.85198143],\n",
       "       [0.24824661, 0.75175339],\n",
       "       [0.10044004, 0.89955996],\n",
       "       [0.18384275, 0.81615725],\n",
       "       [0.28383684, 0.71616316],\n",
       "       [0.10821581, 0.89178419],\n",
       "       [0.14999014, 0.85000986],\n",
       "       [0.39911456, 0.60088544],\n",
       "       [0.21440917, 0.78559083],\n",
       "       [0.35984753, 0.64015247],\n",
       "       [0.85353141, 0.14646859],\n",
       "       [0.16435743, 0.83564257],\n",
       "       [0.70756436, 0.29243564],\n",
       "       [0.21256334, 0.78743666],\n",
       "       [0.19934298, 0.80065702],\n",
       "       [0.33540766, 0.66459234],\n",
       "       [0.85470645, 0.14529355],\n",
       "       [0.19118395, 0.80881605],\n",
       "       [0.3220222 , 0.6779778 ],\n",
       "       [0.18687934, 0.81312066],\n",
       "       [0.35697651, 0.64302349],\n",
       "       [0.16759902, 0.83240098],\n",
       "       [0.22783503, 0.77216497],\n",
       "       [0.08960872, 0.91039128],\n",
       "       [0.20386022, 0.79613978],\n",
       "       [0.21835856, 0.78164144],\n",
       "       [0.1447618 , 0.8552382 ],\n",
       "       [0.2039655 , 0.7960345 ],\n",
       "       [0.18495425, 0.81504575],\n",
       "       [0.1023626 , 0.8976374 ],\n",
       "       [0.11449064, 0.88550936],\n",
       "       [0.10196296, 0.89803704],\n",
       "       [0.78985106, 0.21014894],\n",
       "       [0.22400843, 0.77599157],\n",
       "       [0.12425938, 0.87574062],\n",
       "       [0.82820119, 0.17179881],\n",
       "       [0.08808061, 0.91191939],\n",
       "       [0.35153549, 0.64846451],\n",
       "       [0.85939184, 0.14060816],\n",
       "       [0.20611929, 0.79388071],\n",
       "       [0.19848184, 0.80151816],\n",
       "       [0.23098893, 0.76901107],\n",
       "       [0.24080593, 0.75919407],\n",
       "       [0.28008202, 0.71991798],\n",
       "       [0.16618064, 0.83381936],\n",
       "       [0.18326899, 0.81673101],\n",
       "       [0.09691778, 0.90308222],\n",
       "       [0.37761251, 0.62238749],\n",
       "       [0.16405312, 0.83594688],\n",
       "       [0.30768777, 0.69231223],\n",
       "       [0.15544485, 0.84455515],\n",
       "       [0.28195704, 0.71804296],\n",
       "       [0.23074287, 0.76925713],\n",
       "       [0.25033401, 0.74966599],\n",
       "       [0.38487945, 0.61512055],\n",
       "       [0.07911397, 0.92088603],\n",
       "       [0.06099445, 0.93900555],\n",
       "       [0.66334447, 0.33665553],\n",
       "       [0.40191126, 0.59808874],\n",
       "       [0.1719586 , 0.8280414 ],\n",
       "       [0.28959288, 0.71040712],\n",
       "       [0.09363915, 0.90636085],\n",
       "       [0.31003209, 0.68996791],\n",
       "       [0.64714693, 0.35285307],\n",
       "       [0.27989091, 0.72010909],\n",
       "       [0.38527208, 0.61472792],\n",
       "       [0.40296816, 0.59703184],\n",
       "       [0.24312567, 0.75687433],\n",
       "       [0.09753924, 0.90246076],\n",
       "       [0.12008538, 0.87991462],\n",
       "       [0.10271515, 0.89728485],\n",
       "       [0.30528425, 0.69471575],\n",
       "       [0.25131866, 0.74868134],\n",
       "       [0.69588372, 0.30411628],\n",
       "       [0.13998154, 0.86001846],\n",
       "       [0.72832371, 0.27167629],\n",
       "       [0.89612656, 0.10387344],\n",
       "       [0.13209616, 0.86790384],\n",
       "       [0.76978492, 0.23021508],\n",
       "       [0.21328207, 0.78671793],\n",
       "       [0.09242723, 0.90757277],\n",
       "       [0.10276647, 0.89723353],\n",
       "       [0.25216674, 0.74783326],\n",
       "       [0.23759468, 0.76240532],\n",
       "       [0.306649  , 0.693351  ],\n",
       "       [0.10300953, 0.89699047],\n",
       "       [0.22292266, 0.77707734],\n",
       "       [0.10878553, 0.89121447],\n",
       "       [0.20634116, 0.79365884],\n",
       "       [0.78834231, 0.21165769]])"
      ]
     },
     "execution_count": 381,
     "metadata": {},
     "output_type": "execute_result"
    }
   ],
   "source": [
    "ypred_lr_proba"
   ]
  },
  {
   "cell_type": "code",
   "execution_count": 382,
   "id": "3b9e7496",
   "metadata": {},
   "outputs": [
    {
     "data": {
      "text/html": [
       "<div>\n",
       "<style scoped>\n",
       "    .dataframe tbody tr th:only-of-type {\n",
       "        vertical-align: middle;\n",
       "    }\n",
       "\n",
       "    .dataframe tbody tr th {\n",
       "        vertical-align: top;\n",
       "    }\n",
       "\n",
       "    .dataframe thead th {\n",
       "        text-align: right;\n",
       "    }\n",
       "</style>\n",
       "<table border=\"1\" class=\"dataframe\">\n",
       "  <thead>\n",
       "    <tr style=\"text-align: right;\">\n",
       "      <th></th>\n",
       "      <th>Target</th>\n",
       "      <th>Prob1</th>\n",
       "    </tr>\n",
       "  </thead>\n",
       "  <tbody>\n",
       "    <tr>\n",
       "      <th>350</th>\n",
       "      <td>1</td>\n",
       "      <td>0.829613</td>\n",
       "    </tr>\n",
       "    <tr>\n",
       "      <th>377</th>\n",
       "      <td>1</td>\n",
       "      <td>0.874337</td>\n",
       "    </tr>\n",
       "    <tr>\n",
       "      <th>163</th>\n",
       "      <td>1</td>\n",
       "      <td>0.816996</td>\n",
       "    </tr>\n",
       "    <tr>\n",
       "      <th>609</th>\n",
       "      <td>1</td>\n",
       "      <td>0.784622</td>\n",
       "    </tr>\n",
       "    <tr>\n",
       "      <th>132</th>\n",
       "      <td>1</td>\n",
       "      <td>0.848610</td>\n",
       "    </tr>\n",
       "  </tbody>\n",
       "</table>\n",
       "</div>"
      ],
      "text/plain": [
       "     Target     Prob1\n",
       "350       1  0.829613\n",
       "377       1  0.874337\n",
       "163       1  0.816996\n",
       "609       1  0.784622\n",
       "132       1  0.848610"
      ]
     },
     "execution_count": 382,
     "metadata": {},
     "output_type": "execute_result"
    }
   ],
   "source": [
    "ksd = pd.DataFrame()\n",
    "ksd['Target'] = y_test\n",
    "ksd['Prob1'] = ypred_lr_proba[:,1]\n",
    "ksd.head()"
   ]
  },
  {
   "cell_type": "code",
   "execution_count": 383,
   "id": "9225d768",
   "metadata": {},
   "outputs": [
    {
     "data": {
      "text/html": [
       "<div>\n",
       "<style scoped>\n",
       "    .dataframe tbody tr th:only-of-type {\n",
       "        vertical-align: middle;\n",
       "    }\n",
       "\n",
       "    .dataframe tbody tr th {\n",
       "        vertical-align: top;\n",
       "    }\n",
       "\n",
       "    .dataframe thead th {\n",
       "        text-align: right;\n",
       "    }\n",
       "</style>\n",
       "<table border=\"1\" class=\"dataframe\">\n",
       "  <thead>\n",
       "    <tr style=\"text-align: right;\">\n",
       "      <th></th>\n",
       "      <th>Target</th>\n",
       "      <th>Prob1</th>\n",
       "      <th>Decile</th>\n",
       "    </tr>\n",
       "  </thead>\n",
       "  <tbody>\n",
       "    <tr>\n",
       "      <th>350</th>\n",
       "      <td>1</td>\n",
       "      <td>0.829613</td>\n",
       "      <td>4</td>\n",
       "    </tr>\n",
       "    <tr>\n",
       "      <th>377</th>\n",
       "      <td>1</td>\n",
       "      <td>0.874337</td>\n",
       "      <td>2</td>\n",
       "    </tr>\n",
       "    <tr>\n",
       "      <th>163</th>\n",
       "      <td>1</td>\n",
       "      <td>0.816996</td>\n",
       "      <td>4</td>\n",
       "    </tr>\n",
       "    <tr>\n",
       "      <th>609</th>\n",
       "      <td>1</td>\n",
       "      <td>0.784622</td>\n",
       "      <td>5</td>\n",
       "    </tr>\n",
       "    <tr>\n",
       "      <th>132</th>\n",
       "      <td>1</td>\n",
       "      <td>0.848610</td>\n",
       "      <td>3</td>\n",
       "    </tr>\n",
       "  </tbody>\n",
       "</table>\n",
       "</div>"
      ],
      "text/plain": [
       "     Target     Prob1  Decile\n",
       "350       1  0.829613       4\n",
       "377       1  0.874337       2\n",
       "163       1  0.816996       4\n",
       "609       1  0.784622       5\n",
       "132       1  0.848610       3"
      ]
     },
     "execution_count": 383,
     "metadata": {},
     "output_type": "execute_result"
    }
   ],
   "source": [
    "ksd['Decile'] = pd.qcut(ksd['Prob1'],10,labels=np.arange(0,10,1)).astype(int)\n",
    "ksd[\"Decile\"] = (10 - ksd['Decile']).astype('int')\n",
    "ksd.head()"
   ]
  },
  {
   "cell_type": "code",
   "execution_count": 384,
   "id": "fda52606",
   "metadata": {},
   "outputs": [
    {
     "data": {
      "text/html": [
       "<div>\n",
       "<style scoped>\n",
       "    .dataframe tbody tr th:only-of-type {\n",
       "        vertical-align: middle;\n",
       "    }\n",
       "\n",
       "    .dataframe tbody tr th {\n",
       "        vertical-align: top;\n",
       "    }\n",
       "\n",
       "    .dataframe thead th {\n",
       "        text-align: right;\n",
       "    }\n",
       "</style>\n",
       "<table border=\"1\" class=\"dataframe\">\n",
       "  <thead>\n",
       "    <tr style=\"text-align: right;\">\n",
       "      <th></th>\n",
       "      <th>Min_Score</th>\n",
       "      <th>Max_Score</th>\n",
       "      <th>Event</th>\n",
       "      <th>Total</th>\n",
       "    </tr>\n",
       "    <tr>\n",
       "      <th>Decile</th>\n",
       "      <th></th>\n",
       "      <th></th>\n",
       "      <th></th>\n",
       "      <th></th>\n",
       "    </tr>\n",
       "  </thead>\n",
       "  <tbody>\n",
       "    <tr>\n",
       "      <th>1</th>\n",
       "      <td>0.898037</td>\n",
       "      <td>0.948402</td>\n",
       "      <td>18</td>\n",
       "      <td>19</td>\n",
       "    </tr>\n",
       "    <tr>\n",
       "      <th>2</th>\n",
       "      <td>0.870070</td>\n",
       "      <td>0.897637</td>\n",
       "      <td>17</td>\n",
       "      <td>18</td>\n",
       "    </tr>\n",
       "    <tr>\n",
       "      <th>3</th>\n",
       "      <td>0.835947</td>\n",
       "      <td>0.867904</td>\n",
       "      <td>12</td>\n",
       "      <td>19</td>\n",
       "    </tr>\n",
       "    <tr>\n",
       "      <th>4</th>\n",
       "      <td>0.813121</td>\n",
       "      <td>0.835643</td>\n",
       "      <td>12</td>\n",
       "      <td>18</td>\n",
       "    </tr>\n",
       "    <tr>\n",
       "      <th>5</th>\n",
       "      <td>0.784622</td>\n",
       "      <td>0.811738</td>\n",
       "      <td>15</td>\n",
       "      <td>18</td>\n",
       "    </tr>\n",
       "    <tr>\n",
       "      <th>6</th>\n",
       "      <td>0.753578</td>\n",
       "      <td>0.782236</td>\n",
       "      <td>14</td>\n",
       "      <td>19</td>\n",
       "    </tr>\n",
       "    <tr>\n",
       "      <th>7</th>\n",
       "      <td>0.716163</td>\n",
       "      <td>0.753460</td>\n",
       "      <td>13</td>\n",
       "      <td>18</td>\n",
       "    </tr>\n",
       "    <tr>\n",
       "      <th>8</th>\n",
       "      <td>0.630824</td>\n",
       "      <td>0.710407</td>\n",
       "      <td>13</td>\n",
       "      <td>19</td>\n",
       "    </tr>\n",
       "    <tr>\n",
       "      <th>9</th>\n",
       "      <td>0.265818</td>\n",
       "      <td>0.622387</td>\n",
       "      <td>5</td>\n",
       "      <td>18</td>\n",
       "    </tr>\n",
       "    <tr>\n",
       "      <th>10</th>\n",
       "      <td>0.070923</td>\n",
       "      <td>0.230215</td>\n",
       "      <td>1</td>\n",
       "      <td>19</td>\n",
       "    </tr>\n",
       "  </tbody>\n",
       "</table>\n",
       "</div>"
      ],
      "text/plain": [
       "        Min_Score  Max_Score  Event  Total\n",
       "Decile                                    \n",
       "1        0.898037   0.948402     18     19\n",
       "2        0.870070   0.897637     17     18\n",
       "3        0.835947   0.867904     12     19\n",
       "4        0.813121   0.835643     12     18\n",
       "5        0.784622   0.811738     15     18\n",
       "6        0.753578   0.782236     14     19\n",
       "7        0.716163   0.753460     13     18\n",
       "8        0.630824   0.710407     13     19\n",
       "9        0.265818   0.622387      5     18\n",
       "10       0.070923   0.230215      1     19"
      ]
     },
     "execution_count": 384,
     "metadata": {},
     "output_type": "execute_result"
    }
   ],
   "source": [
    "res = ksd.groupby(['Decile']).agg(\n",
    "                                Min_Score=('Prob1','min'),\n",
    "                                Max_Score=('Prob1','max'),\n",
    "                                Event = ('Target','sum'),\n",
    "                                Total = ('Target','count'))\n",
    "res"
   ]
  },
  {
   "cell_type": "code",
   "execution_count": 385,
   "id": "77080a43",
   "metadata": {},
   "outputs": [
    {
     "data": {
      "text/html": [
       "<div>\n",
       "<style scoped>\n",
       "    .dataframe tbody tr th:only-of-type {\n",
       "        vertical-align: middle;\n",
       "    }\n",
       "\n",
       "    .dataframe tbody tr th {\n",
       "        vertical-align: top;\n",
       "    }\n",
       "\n",
       "    .dataframe thead th {\n",
       "        text-align: right;\n",
       "    }\n",
       "</style>\n",
       "<table border=\"1\" class=\"dataframe\">\n",
       "  <thead>\n",
       "    <tr style=\"text-align: right;\">\n",
       "      <th></th>\n",
       "      <th>Min_Score</th>\n",
       "      <th>Max_Score</th>\n",
       "      <th>Event</th>\n",
       "      <th>Total</th>\n",
       "      <th>Non_Event</th>\n",
       "    </tr>\n",
       "    <tr>\n",
       "      <th>Decile</th>\n",
       "      <th></th>\n",
       "      <th></th>\n",
       "      <th></th>\n",
       "      <th></th>\n",
       "      <th></th>\n",
       "    </tr>\n",
       "  </thead>\n",
       "  <tbody>\n",
       "    <tr>\n",
       "      <th>1</th>\n",
       "      <td>0.898037</td>\n",
       "      <td>0.948402</td>\n",
       "      <td>18</td>\n",
       "      <td>19</td>\n",
       "      <td>1</td>\n",
       "    </tr>\n",
       "    <tr>\n",
       "      <th>2</th>\n",
       "      <td>0.870070</td>\n",
       "      <td>0.897637</td>\n",
       "      <td>17</td>\n",
       "      <td>18</td>\n",
       "      <td>1</td>\n",
       "    </tr>\n",
       "    <tr>\n",
       "      <th>3</th>\n",
       "      <td>0.835947</td>\n",
       "      <td>0.867904</td>\n",
       "      <td>12</td>\n",
       "      <td>19</td>\n",
       "      <td>7</td>\n",
       "    </tr>\n",
       "    <tr>\n",
       "      <th>4</th>\n",
       "      <td>0.813121</td>\n",
       "      <td>0.835643</td>\n",
       "      <td>12</td>\n",
       "      <td>18</td>\n",
       "      <td>6</td>\n",
       "    </tr>\n",
       "    <tr>\n",
       "      <th>5</th>\n",
       "      <td>0.784622</td>\n",
       "      <td>0.811738</td>\n",
       "      <td>15</td>\n",
       "      <td>18</td>\n",
       "      <td>3</td>\n",
       "    </tr>\n",
       "    <tr>\n",
       "      <th>6</th>\n",
       "      <td>0.753578</td>\n",
       "      <td>0.782236</td>\n",
       "      <td>14</td>\n",
       "      <td>19</td>\n",
       "      <td>5</td>\n",
       "    </tr>\n",
       "    <tr>\n",
       "      <th>7</th>\n",
       "      <td>0.716163</td>\n",
       "      <td>0.753460</td>\n",
       "      <td>13</td>\n",
       "      <td>18</td>\n",
       "      <td>5</td>\n",
       "    </tr>\n",
       "    <tr>\n",
       "      <th>8</th>\n",
       "      <td>0.630824</td>\n",
       "      <td>0.710407</td>\n",
       "      <td>13</td>\n",
       "      <td>19</td>\n",
       "      <td>6</td>\n",
       "    </tr>\n",
       "    <tr>\n",
       "      <th>9</th>\n",
       "      <td>0.265818</td>\n",
       "      <td>0.622387</td>\n",
       "      <td>5</td>\n",
       "      <td>18</td>\n",
       "      <td>13</td>\n",
       "    </tr>\n",
       "    <tr>\n",
       "      <th>10</th>\n",
       "      <td>0.070923</td>\n",
       "      <td>0.230215</td>\n",
       "      <td>1</td>\n",
       "      <td>19</td>\n",
       "      <td>18</td>\n",
       "    </tr>\n",
       "  </tbody>\n",
       "</table>\n",
       "</div>"
      ],
      "text/plain": [
       "        Min_Score  Max_Score  Event  Total  Non_Event\n",
       "Decile                                               \n",
       "1        0.898037   0.948402     18     19          1\n",
       "2        0.870070   0.897637     17     18          1\n",
       "3        0.835947   0.867904     12     19          7\n",
       "4        0.813121   0.835643     12     18          6\n",
       "5        0.784622   0.811738     15     18          3\n",
       "6        0.753578   0.782236     14     19          5\n",
       "7        0.716163   0.753460     13     18          5\n",
       "8        0.630824   0.710407     13     19          6\n",
       "9        0.265818   0.622387      5     18         13\n",
       "10       0.070923   0.230215      1     19         18"
      ]
     },
     "execution_count": 385,
     "metadata": {},
     "output_type": "execute_result"
    }
   ],
   "source": [
    "res['Non_Event'] = res['Total'] - res['Event']\n",
    "res"
   ]
  },
  {
   "cell_type": "code",
   "execution_count": 386,
   "id": "8519e1c4",
   "metadata": {},
   "outputs": [
    {
     "name": "stdout",
     "output_type": "stream",
     "text": [
      "(185,)\n",
      "185\n",
      "120\n"
     ]
    }
   ],
   "source": [
    "print(y_test.shape)\n",
    "print(res['Total'].sum())\n",
    "print(res['Event'].sum())"
   ]
  },
  {
   "cell_type": "code",
   "execution_count": 387,
   "id": "087d87ca",
   "metadata": {},
   "outputs": [
    {
     "data": {
      "text/plain": [
       "Counter({1: 120, 0: 65})"
      ]
     },
     "execution_count": 387,
     "metadata": {},
     "output_type": "execute_result"
    }
   ],
   "source": [
    "from collections import Counter\n",
    "Counter(y_test)"
   ]
  },
  {
   "cell_type": "code",
   "execution_count": 388,
   "id": "bdcfe5c7",
   "metadata": {},
   "outputs": [
    {
     "data": {
      "text/html": [
       "<div>\n",
       "<style scoped>\n",
       "    .dataframe tbody tr th:only-of-type {\n",
       "        vertical-align: middle;\n",
       "    }\n",
       "\n",
       "    .dataframe tbody tr th {\n",
       "        vertical-align: top;\n",
       "    }\n",
       "\n",
       "    .dataframe thead th {\n",
       "        text-align: right;\n",
       "    }\n",
       "</style>\n",
       "<table border=\"1\" class=\"dataframe\">\n",
       "  <thead>\n",
       "    <tr style=\"text-align: right;\">\n",
       "      <th></th>\n",
       "      <th>Min_Score</th>\n",
       "      <th>Max_Score</th>\n",
       "      <th>Event</th>\n",
       "      <th>Total</th>\n",
       "      <th>Non_Event</th>\n",
       "      <th>Event%</th>\n",
       "      <th>Non_event%</th>\n",
       "    </tr>\n",
       "    <tr>\n",
       "      <th>Decile</th>\n",
       "      <th></th>\n",
       "      <th></th>\n",
       "      <th></th>\n",
       "      <th></th>\n",
       "      <th></th>\n",
       "      <th></th>\n",
       "      <th></th>\n",
       "    </tr>\n",
       "  </thead>\n",
       "  <tbody>\n",
       "    <tr>\n",
       "      <th>1</th>\n",
       "      <td>0.898037</td>\n",
       "      <td>0.948402</td>\n",
       "      <td>18</td>\n",
       "      <td>19</td>\n",
       "      <td>1</td>\n",
       "      <td>0.150000</td>\n",
       "      <td>0.015385</td>\n",
       "    </tr>\n",
       "    <tr>\n",
       "      <th>2</th>\n",
       "      <td>0.870070</td>\n",
       "      <td>0.897637</td>\n",
       "      <td>17</td>\n",
       "      <td>18</td>\n",
       "      <td>1</td>\n",
       "      <td>0.141667</td>\n",
       "      <td>0.015385</td>\n",
       "    </tr>\n",
       "    <tr>\n",
       "      <th>3</th>\n",
       "      <td>0.835947</td>\n",
       "      <td>0.867904</td>\n",
       "      <td>12</td>\n",
       "      <td>19</td>\n",
       "      <td>7</td>\n",
       "      <td>0.100000</td>\n",
       "      <td>0.107692</td>\n",
       "    </tr>\n",
       "    <tr>\n",
       "      <th>4</th>\n",
       "      <td>0.813121</td>\n",
       "      <td>0.835643</td>\n",
       "      <td>12</td>\n",
       "      <td>18</td>\n",
       "      <td>6</td>\n",
       "      <td>0.100000</td>\n",
       "      <td>0.092308</td>\n",
       "    </tr>\n",
       "    <tr>\n",
       "      <th>5</th>\n",
       "      <td>0.784622</td>\n",
       "      <td>0.811738</td>\n",
       "      <td>15</td>\n",
       "      <td>18</td>\n",
       "      <td>3</td>\n",
       "      <td>0.125000</td>\n",
       "      <td>0.046154</td>\n",
       "    </tr>\n",
       "    <tr>\n",
       "      <th>6</th>\n",
       "      <td>0.753578</td>\n",
       "      <td>0.782236</td>\n",
       "      <td>14</td>\n",
       "      <td>19</td>\n",
       "      <td>5</td>\n",
       "      <td>0.116667</td>\n",
       "      <td>0.076923</td>\n",
       "    </tr>\n",
       "    <tr>\n",
       "      <th>7</th>\n",
       "      <td>0.716163</td>\n",
       "      <td>0.753460</td>\n",
       "      <td>13</td>\n",
       "      <td>18</td>\n",
       "      <td>5</td>\n",
       "      <td>0.108333</td>\n",
       "      <td>0.076923</td>\n",
       "    </tr>\n",
       "    <tr>\n",
       "      <th>8</th>\n",
       "      <td>0.630824</td>\n",
       "      <td>0.710407</td>\n",
       "      <td>13</td>\n",
       "      <td>19</td>\n",
       "      <td>6</td>\n",
       "      <td>0.108333</td>\n",
       "      <td>0.092308</td>\n",
       "    </tr>\n",
       "    <tr>\n",
       "      <th>9</th>\n",
       "      <td>0.265818</td>\n",
       "      <td>0.622387</td>\n",
       "      <td>5</td>\n",
       "      <td>18</td>\n",
       "      <td>13</td>\n",
       "      <td>0.041667</td>\n",
       "      <td>0.200000</td>\n",
       "    </tr>\n",
       "    <tr>\n",
       "      <th>10</th>\n",
       "      <td>0.070923</td>\n",
       "      <td>0.230215</td>\n",
       "      <td>1</td>\n",
       "      <td>19</td>\n",
       "      <td>18</td>\n",
       "      <td>0.008333</td>\n",
       "      <td>0.276923</td>\n",
       "    </tr>\n",
       "  </tbody>\n",
       "</table>\n",
       "</div>"
      ],
      "text/plain": [
       "        Min_Score  Max_Score  Event  Total  Non_Event    Event%  Non_event%\n",
       "Decile                                                                     \n",
       "1        0.898037   0.948402     18     19          1  0.150000    0.015385\n",
       "2        0.870070   0.897637     17     18          1  0.141667    0.015385\n",
       "3        0.835947   0.867904     12     19          7  0.100000    0.107692\n",
       "4        0.813121   0.835643     12     18          6  0.100000    0.092308\n",
       "5        0.784622   0.811738     15     18          3  0.125000    0.046154\n",
       "6        0.753578   0.782236     14     19          5  0.116667    0.076923\n",
       "7        0.716163   0.753460     13     18          5  0.108333    0.076923\n",
       "8        0.630824   0.710407     13     19          6  0.108333    0.092308\n",
       "9        0.265818   0.622387      5     18         13  0.041667    0.200000\n",
       "10       0.070923   0.230215      1     19         18  0.008333    0.276923"
      ]
     },
     "execution_count": 388,
     "metadata": {},
     "output_type": "execute_result"
    }
   ],
   "source": [
    "res['Event%'] = res['Event']/res['Event'].sum()\n",
    "res['Non_event%'] = res['Non_Event']/res['Non_Event'].sum()\n",
    "res"
   ]
  },
  {
   "cell_type": "code",
   "execution_count": 389,
   "id": "b3a86481",
   "metadata": {},
   "outputs": [
    {
     "data": {
      "text/html": [
       "<div>\n",
       "<style scoped>\n",
       "    .dataframe tbody tr th:only-of-type {\n",
       "        vertical-align: middle;\n",
       "    }\n",
       "\n",
       "    .dataframe tbody tr th {\n",
       "        vertical-align: top;\n",
       "    }\n",
       "\n",
       "    .dataframe thead th {\n",
       "        text-align: right;\n",
       "    }\n",
       "</style>\n",
       "<table border=\"1\" class=\"dataframe\">\n",
       "  <thead>\n",
       "    <tr style=\"text-align: right;\">\n",
       "      <th></th>\n",
       "      <th>Min_Score</th>\n",
       "      <th>Max_Score</th>\n",
       "      <th>Event</th>\n",
       "      <th>Total</th>\n",
       "      <th>Non_Event</th>\n",
       "      <th>Event%</th>\n",
       "      <th>Non_event%</th>\n",
       "      <th>Cum_Event%</th>\n",
       "      <th>Cum_Non_Event%</th>\n",
       "      <th>Diff</th>\n",
       "    </tr>\n",
       "    <tr>\n",
       "      <th>Decile</th>\n",
       "      <th></th>\n",
       "      <th></th>\n",
       "      <th></th>\n",
       "      <th></th>\n",
       "      <th></th>\n",
       "      <th></th>\n",
       "      <th></th>\n",
       "      <th></th>\n",
       "      <th></th>\n",
       "      <th></th>\n",
       "    </tr>\n",
       "  </thead>\n",
       "  <tbody>\n",
       "    <tr>\n",
       "      <th>1</th>\n",
       "      <td>0.898037</td>\n",
       "      <td>0.948402</td>\n",
       "      <td>18</td>\n",
       "      <td>19</td>\n",
       "      <td>1</td>\n",
       "      <td>0.150000</td>\n",
       "      <td>0.015385</td>\n",
       "      <td>0.150000</td>\n",
       "      <td>0.015385</td>\n",
       "      <td>1.346154e-01</td>\n",
       "    </tr>\n",
       "    <tr>\n",
       "      <th>2</th>\n",
       "      <td>0.870070</td>\n",
       "      <td>0.897637</td>\n",
       "      <td>17</td>\n",
       "      <td>18</td>\n",
       "      <td>1</td>\n",
       "      <td>0.141667</td>\n",
       "      <td>0.015385</td>\n",
       "      <td>0.291667</td>\n",
       "      <td>0.030769</td>\n",
       "      <td>2.608974e-01</td>\n",
       "    </tr>\n",
       "    <tr>\n",
       "      <th>3</th>\n",
       "      <td>0.835947</td>\n",
       "      <td>0.867904</td>\n",
       "      <td>12</td>\n",
       "      <td>19</td>\n",
       "      <td>7</td>\n",
       "      <td>0.100000</td>\n",
       "      <td>0.107692</td>\n",
       "      <td>0.391667</td>\n",
       "      <td>0.138462</td>\n",
       "      <td>2.532051e-01</td>\n",
       "    </tr>\n",
       "    <tr>\n",
       "      <th>4</th>\n",
       "      <td>0.813121</td>\n",
       "      <td>0.835643</td>\n",
       "      <td>12</td>\n",
       "      <td>18</td>\n",
       "      <td>6</td>\n",
       "      <td>0.100000</td>\n",
       "      <td>0.092308</td>\n",
       "      <td>0.491667</td>\n",
       "      <td>0.230769</td>\n",
       "      <td>2.608974e-01</td>\n",
       "    </tr>\n",
       "    <tr>\n",
       "      <th>5</th>\n",
       "      <td>0.784622</td>\n",
       "      <td>0.811738</td>\n",
       "      <td>15</td>\n",
       "      <td>18</td>\n",
       "      <td>3</td>\n",
       "      <td>0.125000</td>\n",
       "      <td>0.046154</td>\n",
       "      <td>0.616667</td>\n",
       "      <td>0.276923</td>\n",
       "      <td>3.397436e-01</td>\n",
       "    </tr>\n",
       "    <tr>\n",
       "      <th>6</th>\n",
       "      <td>0.753578</td>\n",
       "      <td>0.782236</td>\n",
       "      <td>14</td>\n",
       "      <td>19</td>\n",
       "      <td>5</td>\n",
       "      <td>0.116667</td>\n",
       "      <td>0.076923</td>\n",
       "      <td>0.733333</td>\n",
       "      <td>0.353846</td>\n",
       "      <td>3.794872e-01</td>\n",
       "    </tr>\n",
       "    <tr>\n",
       "      <th>7</th>\n",
       "      <td>0.716163</td>\n",
       "      <td>0.753460</td>\n",
       "      <td>13</td>\n",
       "      <td>18</td>\n",
       "      <td>5</td>\n",
       "      <td>0.108333</td>\n",
       "      <td>0.076923</td>\n",
       "      <td>0.841667</td>\n",
       "      <td>0.430769</td>\n",
       "      <td>4.108974e-01</td>\n",
       "    </tr>\n",
       "    <tr>\n",
       "      <th>8</th>\n",
       "      <td>0.630824</td>\n",
       "      <td>0.710407</td>\n",
       "      <td>13</td>\n",
       "      <td>19</td>\n",
       "      <td>6</td>\n",
       "      <td>0.108333</td>\n",
       "      <td>0.092308</td>\n",
       "      <td>0.950000</td>\n",
       "      <td>0.523077</td>\n",
       "      <td>4.269231e-01</td>\n",
       "    </tr>\n",
       "    <tr>\n",
       "      <th>9</th>\n",
       "      <td>0.265818</td>\n",
       "      <td>0.622387</td>\n",
       "      <td>5</td>\n",
       "      <td>18</td>\n",
       "      <td>13</td>\n",
       "      <td>0.041667</td>\n",
       "      <td>0.200000</td>\n",
       "      <td>0.991667</td>\n",
       "      <td>0.723077</td>\n",
       "      <td>2.685897e-01</td>\n",
       "    </tr>\n",
       "    <tr>\n",
       "      <th>10</th>\n",
       "      <td>0.070923</td>\n",
       "      <td>0.230215</td>\n",
       "      <td>1</td>\n",
       "      <td>19</td>\n",
       "      <td>18</td>\n",
       "      <td>0.008333</td>\n",
       "      <td>0.276923</td>\n",
       "      <td>1.000000</td>\n",
       "      <td>1.000000</td>\n",
       "      <td>-1.110223e-16</td>\n",
       "    </tr>\n",
       "  </tbody>\n",
       "</table>\n",
       "</div>"
      ],
      "text/plain": [
       "        Min_Score  Max_Score  Event  Total  Non_Event    Event%  Non_event%  \\\n",
       "Decile                                                                        \n",
       "1        0.898037   0.948402     18     19          1  0.150000    0.015385   \n",
       "2        0.870070   0.897637     17     18          1  0.141667    0.015385   \n",
       "3        0.835947   0.867904     12     19          7  0.100000    0.107692   \n",
       "4        0.813121   0.835643     12     18          6  0.100000    0.092308   \n",
       "5        0.784622   0.811738     15     18          3  0.125000    0.046154   \n",
       "6        0.753578   0.782236     14     19          5  0.116667    0.076923   \n",
       "7        0.716163   0.753460     13     18          5  0.108333    0.076923   \n",
       "8        0.630824   0.710407     13     19          6  0.108333    0.092308   \n",
       "9        0.265818   0.622387      5     18         13  0.041667    0.200000   \n",
       "10       0.070923   0.230215      1     19         18  0.008333    0.276923   \n",
       "\n",
       "        Cum_Event%  Cum_Non_Event%          Diff  \n",
       "Decile                                            \n",
       "1         0.150000        0.015385  1.346154e-01  \n",
       "2         0.291667        0.030769  2.608974e-01  \n",
       "3         0.391667        0.138462  2.532051e-01  \n",
       "4         0.491667        0.230769  2.608974e-01  \n",
       "5         0.616667        0.276923  3.397436e-01  \n",
       "6         0.733333        0.353846  3.794872e-01  \n",
       "7         0.841667        0.430769  4.108974e-01  \n",
       "8         0.950000        0.523077  4.269231e-01  \n",
       "9         0.991667        0.723077  2.685897e-01  \n",
       "10        1.000000        1.000000 -1.110223e-16  "
      ]
     },
     "execution_count": 389,
     "metadata": {},
     "output_type": "execute_result"
    }
   ],
   "source": [
    "res['Cum_Event%'] = np.cumsum(res['Event%'])\n",
    "res['Cum_Non_Event%'] = np.cumsum(res['Non_event%'])\n",
    "res['Diff'] = res['Cum_Event%'] - res['Cum_Non_Event%']\n",
    "res"
   ]
  },
  {
   "cell_type": "code",
   "execution_count": null,
   "id": "dbcf5e34",
   "metadata": {},
   "outputs": [],
   "source": []
  },
  {
   "cell_type": "code",
   "execution_count": null,
   "id": "a27d0140",
   "metadata": {},
   "outputs": [],
   "source": []
  },
  {
   "cell_type": "code",
   "execution_count": null,
   "id": "638c0f4b",
   "metadata": {},
   "outputs": [],
   "source": []
  }
 ],
 "metadata": {
  "kernelspec": {
   "display_name": "Python 3 (ipykernel)",
   "language": "python",
   "name": "python3"
  },
  "language_info": {
   "codemirror_mode": {
    "name": "ipython",
    "version": 3
   },
   "file_extension": ".py",
   "mimetype": "text/x-python",
   "name": "python",
   "nbconvert_exporter": "python",
   "pygments_lexer": "ipython3",
   "version": "3.9.13"
  }
 },
 "nbformat": 4,
 "nbformat_minor": 5
}
